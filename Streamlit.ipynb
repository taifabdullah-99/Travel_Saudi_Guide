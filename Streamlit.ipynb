{
 "cells": [
  {
   "cell_type": "code",
   "execution_count": 2,
   "metadata": {},
   "outputs": [
    {
     "ename": "ModuleNotFoundError",
     "evalue": "No module named 'streamlit'",
     "output_type": "error",
     "traceback": [
      "\u001b[0;31m---------------------------------------------------------------------------\u001b[0m",
      "\u001b[0;31mModuleNotFoundError\u001b[0m                       Traceback (most recent call last)",
      "Cell \u001b[0;32mIn[2], line 1\u001b[0m\n\u001b[0;32m----> 1\u001b[0m \u001b[38;5;28;01mimport\u001b[39;00m \u001b[38;5;21;01mstreamlit\u001b[39;00m \u001b[38;5;28;01mas\u001b[39;00m \u001b[38;5;21;01mst\u001b[39;00m\n\u001b[1;32m      2\u001b[0m \u001b[38;5;28;01mfrom\u001b[39;00m \u001b[38;5;21;01mprojectrag\u001b[39;00m \u001b[38;5;28;01mimport\u001b[39;00m SimpleRAG  \u001b[38;5;66;03m# Ensure projectrag.py is in the same folder\u001b[39;00m\n\u001b[1;32m      3\u001b[0m \u001b[38;5;66;03m# Initialize RAG system\u001b[39;00m\n",
      "\u001b[0;31mModuleNotFoundError\u001b[0m: No module named 'streamlit'"
     ]
    }
   ],
   "source": [
    "import streamlit as st\n",
    "from projectrag import SimpleRAG  # Ensure projectrag.py is in the same folder\n",
    "# Initialize RAG system\n",
    "rag = SimpleRAG()\n",
    "rag.load_documents()\n",
    "# Streamlit configuration\n",
    "st.set_page_config(page_title=\"RAG Assistant\", page_icon=\":robot_face:\")\n",
    "st.title(\"RAG Assistant\")\n",
    "st.write(\"Ask me anything about AlUla's cultural and architectural features!\")\n",
    "# Chat history\n",
    "if \"chat_history\" not in st.session_state:\n",
    "    st.session_state.chat_history = []\n",
    "# User input\n",
    "user_input = st.text_input(\"Enter your question:\")\n",
    "if user_input:\n",
    "    # Generate response\n",
    "    with st.spinner(\"Generating response...\"):\n",
    "        response = rag.query(user_input)\n",
    "    # Save to chat history\n",
    "    st.session_state.chat_history.append({\"user\": user_input, \"ai\": response})\n",
    "# Display chat history\n",
    "for message in st.session_state.chat_history:\n",
    "    st.markdown(f\"**You:** {message['user']}\")\n",
    "    st.markdown(f\"**AI:** {message['ai']}\")\n"
   ]
  },
  {
   "cell_type": "code",
   "execution_count": null,
   "metadata": {},
   "outputs": [],
   "source": []
  }
 ],
 "metadata": {
  "kernelspec": {
   "display_name": "Python 3",
   "language": "python",
   "name": "python3"
  },
  "language_info": {
   "codemirror_mode": {
    "name": "ipython",
    "version": 3
   },
   "file_extension": ".py",
   "mimetype": "text/x-python",
   "name": "python",
   "nbconvert_exporter": "python",
   "pygments_lexer": "ipython3",
   "version": "3.12.0"
  }
 },
 "nbformat": 4,
 "nbformat_minor": 2
}
