{
 "cells": [
  {
   "cell_type": "markdown",
   "metadata": {},
   "source": [
    "# Project Goal\n",
    "#### To implement a Retrieval-Augmented Generation (RAG) system using FAISS for document retrieval and OpenAI's GPT models for generating responses, focusing on AlUla's cultural and architectural features based on provided text data.\n",
    "\n"
   ]
  },
  {
   "cell_type": "markdown",
   "metadata": {},
   "source": [
    "## Project Workflow\n"
   ]
  },
  {
   "cell_type": "markdown",
   "metadata": {},
   "source": [
    "### 1. Importing Libraries\n",
    "Import the necessary libraries for text processing, embeddings, FAISS, and OpenAI."
   ]
  },
  {
   "cell_type": "code",
   "execution_count": 1,
   "metadata": {},
   "outputs": [
    {
     "data": {
      "text/plain": [
       "True"
      ]
     },
     "execution_count": 1,
     "metadata": {},
     "output_type": "execute_result"
    }
   ],
   "source": [
    "import ipywidgets as widgets\n",
    "from IPython.display import display, Markdown\n",
    "from dotenv import load_dotenv\n",
    "from openai import OpenAI\n",
    "import os\n",
    "import PyPDF2\n",
    "import nltk\n",
    "from nltk.corpus import stopwords\n",
    "from nltk.tokenize import word_tokenize\n",
    "from collections import Counter\n",
    "import matplotlib.pyplot as plt\n",
    "from wordcloud import WordCloud\n",
    "import re\n",
    "from langchain_community.document_loaders import DirectoryLoader\n",
    "from langchain.text_splitter import RecursiveCharacterTextSplitter\n",
    "from langchain_openai import OpenAIEmbeddings\n",
    "from langchain_community.vectorstores import FAISS\n",
    "from langchain_openai import ChatOpenAI\n",
    "from langchain.chains import RetrievalQA\n",
    "\n",
    "load_dotenv()"
   ]
  },
  {
   "cell_type": "markdown",
   "metadata": {},
   "source": [
    "### 2. OpenAI Initialization\n",
    " Initialize the OpenAI client and define the model you’re going to use."
   ]
  },
  {
   "cell_type": "code",
   "execution_count": 2,
   "metadata": {},
   "outputs": [],
   "source": [
    "model_gpt = \"gpt-4o-mini\"\n",
    "\n",
    "client = OpenAI(\n",
    "    # This is the default and can be omitted\n",
    "    api_key=os.getenv(\"OPENAI_API_KEY\"),\n",
    ")\n"
   ]
  },
  {
   "cell_type": "code",
   "execution_count": 6,
   "metadata": {},
   "outputs": [],
   "source": [
    "def zero_shot_prompt(question):\n",
    "    response = client.chat.completions.create(\n",
    "        model= model_gpt,\n",
    "        messages=[\n",
    "            {'role': 'user', 'content': question}\n",
    "        ]\n",
    "    )\n",
    "    return response.choices[0].message.content\n",
    "question = 'What are the architectural features of the Maraya building?'"
   ]
  },
  {
   "cell_type": "code",
   "execution_count": 7,
   "metadata": {},
   "outputs": [
    {
     "data": {
      "text/plain": [
       "\"Maraya is a notable architectural landmark located in AlUla, Saudi Arabia. Here are some of its distinguishing architectural features:\\n\\n1. **Reflective Facade**: Maraya is renowned for its highly reflective glass facade that mirrors the surrounding desert landscape, creating an intriguing visual effect and blending the structure with its environment.\\n\\n2. **Sculptural Design**: The building is designed in a way that appears to emerge from the ground, with a sculptural form that captures the essence of the natural landscape around it.\\n\\n3. **Natural Light Integration**: The architecture emphasizes natural light, utilizing large windows and openings that allow for ample daylight to penetrate the interior spaces.\\n\\n4. **Sustainability**: Incorporating sustainable design principles, Maraya aims to minimize its environmental impact through energy-efficient systems.\\n\\n5. **Cultural Influence**: The design reflects a blend of modern aesthetics with local cultural elements, resonating with the historical context of AlUla.\\n\\n6. **Functionality**: As a multifunctional space, Maraya serves as a venue for concerts, art exhibitions, and cultural events, thus showcasing versatility in its design.\\n\\n7. **Landscape Integration**: The building is strategically placed to harmonize with the rugged AlUla landscape, enhancing the overall experience for visitors.\\n\\nThese features underline Maraya's role not just as a building, but as a venue that elevates cultural engagement and celebrates the unique environment of AlUla.\""
      ]
     },
     "execution_count": 7,
     "metadata": {},
     "output_type": "execute_result"
    }
   ],
   "source": [
    "zero_shot_prompt(question)"
   ]
  },
  {
   "cell_type": "markdown",
   "metadata": {},
   "source": [
    "### 3. Preprocess Text:\n",
    "\n",
    "Load, Clean and split text into meaningful chunks."
   ]
  },
  {
   "cell_type": "code",
   "execution_count": 2,
   "metadata": {},
   "outputs": [
    {
     "name": "stdout",
     "output_type": "stream",
     "text": [
      "[\"Explore Aseer's flavours & history in Abha\\ndiscoversaudi.saAbha | Group 9 hours\\n\", \"Embark on an exciting adventure and explore unique flavours in Abha. Start your tour on a sweet note by gaining some insight into the production process and different types of honey, which is an integral part of Aseer's culture. The honey farm features a small museum that allows guests to take a closer look at the tools, equipment and beekeeper's outfit that are used for honey extraction from the hives. Gain more insight into the life cycle of honey bees and check out the apiary, also called a 'Bee yard', where the insects are kept. At this farm, guests can also sample over 15 different types of honey and learn about their distinguishing characteristics, along with Saudi coffee and treats. Learn about Rijal Almaa's history, marvel at the stunning panoramic views and the traditional decor of the farm and take lots of photos to help you remember this fantastic place forever. Enjoy a refreshing cup of Saudi coffee and treats before visiting Rijal Almaa, a village brimming with history and culture. The village is one of the six UNESCO World Heritage Sites in Saudi Arabia, which features around 60 palaces constructed from natural stone, clay and wood. Have lunch at Al Nozol Al Turatheyah, where you can enjoy a delicious spread of local dishes bursting with authentic flavours. Relish these lip-smacking treats while you bask in your beautiful surroundings.Overview\\ndiscoversaudi.sa\\n1\\nAbha  |\\nBees Tower Honey RefineryRijal Almaa\\n\", \" Itinerary8:00 AM - Pick-upGather at the meeting point and get picked up from there to embark on an exciting adventure in Abha.10:00 AM - Trip to Bees Tower Honey RefineryGain insight into the different stages, clothing, tools and equipment involved in the production process of honey at the quaint little museum housed inside the farm. Visitors can check out the apiary where the honey bees are kept, and round off the experience by sampling over 15 different types of honey and learning about the distinguishing elements of each. Enjoy a refreshing cup of coffee and treats at the farm before setting out to your next destination.11:30 AM - Rijal Almaa tourExplore one of Kingdom's six UNESCO World Heritage Sites, the village of Rijal Almaa, a top cultural and historical attraction. Roam around and marvel at the architecture of around 60 palaces constructed from natural stone, clay and wood.\\n2discoversaudi.saAbha  |\", \" Itinerary1:30 PM - LunchCatch a breather and have a delicious lunch at Al Nozol Al Turatheyah, where you can relish a menagerie of exquisite dishes such as Maghash, a meat dish made in a stone pot; Harissa, a creamy stew made with wheat and meat, Edam, a delicious broth that's made with meat and vegetables and lots of other sumptuous treats.\\u20285:00 PM - End of tourTake plenty of photos and gather your souvenirs to take back home with you before heading back. You will be dropped off at the meeting point.\\n3discoversaudi.saAbha  |\", '4\\ndiscoversaudi.saAbha  |', '5Inclusions-English & Arabic-speaking tour guide-Pick-up from & drop-off at the gathering point-Entry tickets to Bees Tower Honey Refinery-Snacks & lunch-Taxes & surcharges\\ndiscoversaudi.saAbha  |', 'Exclusions-Hotel pick-up & drop-off-Personal expenses\\n6discoversaudi.saAbha  |', 'Terms & conditions‒For booking requests and confirmation, please send an email to sales@discoversaudi.sa.‒Bookings need to be confirmed, and the payment must be made at least 72 hours before the tour.‒If a prepayment has not been received for the tour, Discover Saudi has the right to not provide the services.‒The package includes transportation in a shared SUV with pick-up from & drop-off at the gathering point.‒Access to landmarks and museums is subject to local authorities.Additional information‒Guests must wear comfortable footwear and dress modestly.‒A translator for your preferred language can be provided at an additional fee.\\n7discoversaudi.saAbha  |', 'Cancellation policy-Bookings are refundable up to 48 hours prior to the trip, after which they are strictly non-refundable.-Tours are subject to favourable weather conditions. In case tours are halted or cancelled as a result of bad weather, a refund will be processed within 14 days to the bank account linked to the card used for the transaction.\\n8discoversaudi.saAbha  |', 'Discover SaudiDiscover the last frontier of travel with us. We look forward to partnering with you in creating unforgettable journeys!For more information, please contact:info@discoversaudi.sa9Abha  |\\n'] 313\n"
     ]
    }
   ],
   "source": [
    "import os\n",
    "from PyPDF2 import PdfReader\n",
    "\n",
    "def extract_text_from_pdfs(pdf_paths):\n",
    "   \n",
    "    text_chunks = []\n",
    "    for pdf_path in pdf_paths:\n",
    "        with open(pdf_path, 'rb') as file:\n",
    "            reader = PdfReader(file)\n",
    "            for page in reader.pages:\n",
    "                text_chunks.append(page.extract_text())\n",
    "    return text_chunks\n",
    "\n",
    "# Example usage\n",
    "pdf_files = [\n",
    "    \"/Users/fatimaessa/Downloads/RAG Project/Saudi Travel Guides/Abha-Explore_Aseer_s_flavours_and_history_in_Abha_07f5641003.pdf\",\n",
    "    \"/Users/fatimaessa/Downloads/RAG Project/Saudi Travel Guides/al-ahsa-guidebook.pdf\",\n",
    "    \"/Users/fatimaessa/Downloads/RAG Project/Saudi Travel Guides/ALULA_OVG_EN_260122.pdf\",\n",
    "    \"/Users/fatimaessa/Downloads/RAG Project/Saudi Travel Guides/aseer-city-guide-en.pdf\",\n",
    "    \"/Users/fatimaessa/Downloads/RAG Project/Saudi Travel Guides/REDSEA_Factsheet_2024.pdf\",\n",
    "    \"/Users/fatimaessa/Downloads/RAG Project/Saudi Travel Guides/jeddah-guidebook.pdf\",\n",
    "    \"/Users/fatimaessa/Downloads/RAG Project/Saudi Travel Guides/riyadh-guidebook (2).pdf\",\n",
    "    \"/Users/fatimaessa/Downloads/RAG Project/Saudi Travel Guides/saudi-series-travel-english.pdf\",\n",
    "    \"/Users/fatimaessa/Downloads/RAG Project/Saudi Travel Guides/TCWKeepDreaming_047.pdf\",\n",
    "    \"/Users/fatimaessa/Downloads/RAG Project/Saudi Travel Guides/Tourist-guide-For-Al-Bahah-region-V00.pdf\"\n",
    "\n",
    "]\n",
    "\n",
    "# Extract text from all PDFs\n",
    "chunks = extract_text_from_pdfs(pdf_files)\n",
    "\n",
    "# Print the first chunk and the total number of chunks\n",
    "print(chunks[:10], len(chunks))\n"
   ]
  },
  {
   "cell_type": "code",
   "execution_count": null,
   "metadata": {},
   "outputs": [],
   "source": [
    "# import PyPDF2\n",
    "# def extract_text_from_pdf(pdf_path) -> list:\n",
    "#     with open(pdf_path, 'rb') as file:\n",
    "#         reader = PyPDF2.PdfReader(file)\n",
    "#         text = []\n",
    "#         for page in reader.pages:\n",
    "#             text.append(page.extract_text())\n",
    "#     return text\n"
   ]
  },
  {
   "cell_type": "code",
   "execution_count": 20,
   "metadata": {},
   "outputs": [],
   "source": [
    "# # Example usage\n",
    "# chunks = extract_text_from_pdf(\"/Users/taifabdullah/Desktop/Alula/TCWKeepDreaming_047.pdf\")\n",
    "# print(chunks[:1], len(chunks))  # Print the first 500 characters for review"
   ]
  },
  {
   "cell_type": "markdown",
   "metadata": {},
   "source": [
    "### 4. RAG (Embeddings, Retieving and Generation)\n",
    "Embed the preprocessed text chunks and store the embeddings in FAISS."
   ]
  },
  {
   "cell_type": "code",
   "execution_count": 3,
   "metadata": {},
   "outputs": [],
   "source": [
    "import faiss\n",
    "import numpy as np\n",
    "from openai import OpenAI\n",
    "import pickle\n",
    "\n",
    "\n",
    "class SimpleRAG:\n",
    "    def __init__(self, max_tokens=1000):\n",
    "        self.client = OpenAI()\n",
    "        self.index = faiss.IndexFlatL2(1536)  # OpenAI embedding dimension\n",
    "        self.texts = []\n",
    "        self.max_tokens = max_tokens\n",
    "\n",
    "    def add_documents(self, documents):\n",
    "        \"\"\"Add documents to the vector store\"\"\"\n",
    "        for doc in documents:\n",
    "            embedding = self.client.embeddings.create(\n",
    "                model=\"text-embedding-3-small\",\n",
    "                input=doc\n",
    "            ).data[0].embedding\n",
    "            self.index.add(np.array([embedding]))\n",
    "            self.texts.append(doc)\n",
    "\n",
    "        pickle.dump(self.index, open('vectors.pkl', 'wb'))\n",
    "        pickle.dump(self.texts, open(\"texts.pkl\", \"wb\"))\n",
    "\n",
    "    def load_documents(self):\n",
    "        self.index = pickle.load(open('vectors.pkl', 'rb'))\n",
    "        self.texts = pickle.load(open('texts.pkl', 'rb'))\n",
    "\n",
    "    def retrieve(self, query, k=3):\n",
    "        \"\"\"Retrieve k most relevant documents\"\"\"\n",
    "        query_embedding = self.client.embeddings.create(\n",
    "            model=\"text-embedding-3-small\",\n",
    "            input=query\n",
    "        ).data[0].embedding\n",
    "        \n",
    "        D, I = self.index.search(np.array([query_embedding]), k=k)\n",
    "        return [self.texts[i] for i in I[0]]\n",
    "\n",
    "    def generate_prompt(self, query, relevant_docs):\n",
    "        \"\"\"Create prompt for the LLM\"\"\"\n",
    "        context = \"\\n\".join(relevant_docs)\n",
    "        prompt = f\"\"\"Use the following pieces of context to answer the question. \n",
    "        If you cannot find the answer in the context, say \"I don't have enough information to answer this question.\"\n",
    "\n",
    "        Context:\n",
    "        {context}\n",
    "\n",
    "        Question: {query}\n",
    "        \n",
    "        Answer:\"\"\"\n",
    "        return prompt\n",
    "\n",
    "    def query(self, question):\n",
    "        \"\"\"Full RAG pipeline\"\"\"\n",
    "        # 1. Retrieve relevant documents\n",
    "        relevant_docs = self.retrieve(question)\n",
    "        \n",
    "        # 2. Generate prompt with context\n",
    "        prompt = self.generate_prompt(question, relevant_docs)\n",
    "        \n",
    "        # 3. Get answer from LLM\n",
    "        response = self.client.chat.completions.create(\n",
    "            model=\"gpt-4\",\n",
    "            messages=[\n",
    "                {\"role\": \"system\", \"content\": \"You are a helpful assistant that answers questions based on the provided context.\"},\n",
    "                {\"role\": \"user\", \"content\": prompt}\n",
    "            ],\n",
    "            max_tokens=self.max_tokens\n",
    "        )\n",
    "        \n",
    "        return response.choices[0].message.content\n",
    "\n"
   ]
  },
  {
   "cell_type": "code",
   "execution_count": 4,
   "metadata": {},
   "outputs": [],
   "source": [
    "simple_rag = SimpleRAG()\n",
    "simple_rag.add_documents(chunks)"
   ]
  },
  {
   "cell_type": "code",
   "execution_count": 8,
   "metadata": {},
   "outputs": [],
   "source": [
    "# simple_rag = SimpleRAG()\n",
    "# simple_rag.load_documents()"
   ]
  },
  {
   "cell_type": "code",
   "execution_count": 5,
   "metadata": {},
   "outputs": [
    {
     "data": {
      "text/plain": [
       "[' Al-Bustan\\nRestaurant\\nAl-Bustan Restaurant is one of the best restaurants offering \\nLebanese cuisine in Al-Baha. The restaurant is known for its wide \\nand diverse selection of delicious Lebanese dishes.\\nClick here\\n Al Baha CityTourist guide For Al Bahah region\\n 47',\n",
       " ' 8OZ Café\\nIt has modern decoration and offers a variety of cold and hot \\ndrinks in addition to western desserts.\\nClick here\\n Al Baha CityTourist guide For Al Bahah region\\n 45',\n",
       " 'Visit Saudi Road trips 2022  275 UNMISSABLE \\nTHINGS TO DO\\nCamp in a forest\\nSprawling forests are the norm in Al Baha making this city a favourite among nature lovers or those looking to catch a break from urban life. \\nThe Khairah Forest \\nPark has some of the best night views under the starry Arabian sky. Visit the Raghadan Forest next, a family-friendly camping spot that is closely located to Al Baha’s city centre. The winding road near the forest will lead you to a spot loved by locals for its beautiful vistas that offer a breath-taking view of the valley below. Don’t miss the Al Malad Dam, a favourite for campers on the hunt for hidden gems with some great areas for bird-spotting.\\n“If nature is \\nyour thing, there are more than 40 forests surrounding the city to explore, among them pomegranate and apricot orchards.”\\nThe Al Khulb Park\\nGo hiking\\nThe Shada Mountain is perfect for anyone looking for solace. Jagged cliffs and deep precipices make for one of the best climbs. Surrounding the mountain is the historic village of Dhee Ayn or the Marble Village, as it has been affectionately coined, since the surface it sits on is anything but smooth. \\nThen there is Jabal Thera \\nor “Green Mountain”. The peak south of Abha emits an emerald glow across the city at night. The best way to take in the views and get to the summit is via cable car. There is also a restaurant and a café here where you can enjoy a 360-degree view of the area.\\nTake in the history\\nTake time to explore the architectural gems – the AlKhalaf and AlKhalif Historic Villages about 4km north of the Qilwah governorate in Al Baha. The two villages have been restored to preserve the heritage and traditional architecture of the region. \\nAncient Islamic inscriptions \\nwith Quranic verses and supplications can be found on the basalt stones. Don’t forget to check out the Hanging Village of Al Habala composed of a series of sandstone homes perched \\non the ledge of a sheer cliff, made almost 400 years ago by the Qahtan tribe who reached the secluded spot by rope ladder.\\nShop the Souq\\nNo trip is complete without a souvenir. The historic Al Baha Souq is one of the largest in the region. The market is held on Tuesdays and local vendors from the Tihama coastal strip bring their wares to sell. You can ﬁnd many things from locally-sourced honey, ﬁsh and basil, to crafts, textiles and wickerwork. It’s worth a visit to get a glimpse into local life and culture.\\nEnjoy the food\\nGiven the inﬂux of tourists Al Baha receives; it comes as no surprise that the food offerings are hugely diverse. If you’re a seafood lover, check out Fifth Season. For a more local but lighter snack experience, check out Backyard Café with its quirky, nature-inspired décor; the San Sebastian Cheesecake comes highly recommended. If you’re feeling adventurous, why not try some camel meat? Hashi Basha offers the full experience complete with spicy rice.']"
      ]
     },
     "execution_count": 5,
     "metadata": {},
     "output_type": "execute_result"
    }
   ],
   "source": [
    "simple_rag.retrieve(\"best food in albahah\")"
   ]
  },
  {
   "cell_type": "markdown",
   "metadata": {},
   "source": [
    "### 5. Querying"
   ]
  },
  {
   "cell_type": "code",
   "execution_count": 6,
   "metadata": {},
   "outputs": [
    {
     "data": {
      "text/plain": [
       "'The best time for star-gazing in AlUla is around each new moon.'"
      ]
     },
     "execution_count": 6,
     "metadata": {},
     "output_type": "execute_result"
    }
   ],
   "source": [
    "simple_rag.query('what is the best time for star gazing in alula?')\n"
   ]
  },
  {
   "cell_type": "code",
   "execution_count": 7,
   "metadata": {},
   "outputs": [
    {
     "data": {
      "text/plain": [
       "'The facilities in Habitas AlUla include a spa with in-and-outdoor treatments, a dramatic infinity pool, the Desert X Pavilion showcasing local and international artists, an onsite Middle-Eastern restaurant, and a facility for cooking classes led by a local chef. It also includes a yoga deck, wellness and fitness centres, and a swimming pool.'"
      ]
     },
     "execution_count": 7,
     "metadata": {},
     "output_type": "execute_result"
    }
   ],
   "source": [
    "simple_rag.query('what are the facilites in habitas alula?')"
   ]
  },
  {
   "cell_type": "code",
   "execution_count": 8,
   "metadata": {},
   "outputs": [
    {
     "name": "stdout",
     "output_type": "stream",
     "text": [
      "Question: What are the must-visit historical sites in Jeddah?\n",
      "Answer: The must-visit historical sites in Jeddah include the Nasseef House, the Matbouli House Museum, and the Tayebat Museum. Other notable locations to visit include Our Days of Bliss Magad and the Al Balad district, a UNESCO World Heritage Site filled with unique architecture dating from the 16th to the early 20th centuries.\n",
      "\n",
      "Question: What are the best beaches in Jeddah for water sports and relaxation?\n",
      "Answer: The context mentions that Jeddah has many prime beach locations on the Red Sea that are suitable for water sports and relaxation. While it doesn't mention specific beaches, it does recommend considering Jeddah's private beach clubs such as Oia or Indigo for activities like jet skiing and paddleboarding. It also mentions the Jeddah Waterfront, also known as the Jeddah Corniche, which features beaches, parks, play areas for kids, and dedicated sports and fishing areas.\n",
      "\n",
      "Question: Can you recommend unique accommodations in Jeddah, including chalets and luxury hotels?\n",
      "Answer: Yes, for unique accommodations in Jeddah, you might consider some of the following:\n",
      "\n",
      "1. Mövenpick Hotel - It offers vibrant city views and is suitable for business travelers, it's also described as luxurious. \n",
      "\n",
      "2. InterContinental Jeddah - Guests can enjoy breath-taking views of the Red Sea front and King Fahad’s Fountain. This hotel is in prime location close to Jeddah business centres and top attractions.\n",
      "\n",
      "3. Park Hyatt Jeddah Hotel - Situated in beautiful and tranquil landscaped gardens on the seashore of Jeddah’s Corniche, with views of the Red Sea and King Fahad fountain.\n",
      "\n",
      "4. Narcissus Hotel and Spa - Located on the coast, offers views of Jeddah’s north coast. It comes complete with a sandy beach, a kid’s pool, a pool for men directly on the seaside, and an indoor women’s pool. It offers a series of rooms and amenities and a comprehensive list of international dining options including an Italian and an Argentine restaurant. \n",
      "\n",
      "For more unique stay experiences like chalets, farms and tents, you can download the Gathern app available at the App Store for iOS and Google Play for Android.\n",
      "\n",
      "Question: What are the top dining spots in Jeddah to try traditional Hijazi cuisine?\n",
      "Answer: Some of the top dining spots in Jeddah to try traditional Hijazi cuisine include the Taibat Al Hijaz, which is known for its Hejazi breakfast platters; Al Nakheel, where you can sample the iconic Hijazi dish of saleeq chicken and milky rice; and Maqadeer, where you can taste traditional dishes such as saleeq, aish bellaham, and kabli rice. There's also the local favorite, Al Baik, which is famous for its fried chicken.\n",
      "\n",
      "Question: What are the best scuba diving and snorkeling spots near Jeddah?\n",
      "Answer: Some of the best scuba diving and snorkeling spots near Jeddah include Sharm Obhur, which is home to a variety of marine life including turtles, clownfish, lionfish, eels, and sometimes bull sharks, and Abu Tair, where the famous Staphonos shipwreck is located, providing a home for whitetip sharks, schools of goatfish, and blue-spotted stingrays.\n",
      "\n",
      "Question: What luxury resorts are currently open at the Red Sea destination?\n",
      "Answer: The luxury resorts currently open at the Red Sea destination are the Six Senses Southern Dunes and St Regis Red Sea Resort.\n",
      "\n",
      "Question: What sustainable initiatives are implemented at the Red Sea International Airport?\n",
      "Answer: The Red Sea International Airport (RSI) uses a design that utilizes shade and natural ventilation, reducing the reliance on air conditioning. It also plans to serve one million tourists per year by 2030 with a seamless guest experience including touchless, smart luggage. The Red Sea also relies on multiple modes of carbon-neutral green transport across land, marine, and air. RSI's electric fleet, featuring renowned models such as the Mercedes-Benz EQS and Lucid Air, provides a stylish and sustainable travel experience for guest transport. Moreover, RSI is exploring hydrogen applications across land, sea, and air, and has partnered with ZeroAvia to develop zero-emission seaplane flights by retrofitting seaplanes with hydrogen-powered technology. The airport is also supportive of the overall green targets of The Red Sea resort which includes being 100% powered by solar energy and targeting a zero carbon footprint.\n",
      "\n",
      "Question: What are the main features of the Ummahat Islands resorts?\n",
      "Answer: The Ummahat Islands are home to two resorts: the St. Regis Red Sea Resort and Nujuma, A Ritz-Carlton Reserve. The St. Regis Red Sea Resort offers luxury service, blending exquisitely with the natural beauty of the Red Sea coast. The Nujuma resort provides a private and transformative travel experience centered on human connection, incorporating local culture, heritage, and environment. Both resorts are built to blend seamlessly with the natural environment\n",
      "\n",
      "Moreover, the island offers a rich environment for leisure time with multiple villas at the resort itself. They range from one-to-four bedrooms, such as the Duna Villa (one bedroom), the Coral Villa (two bedrooms), Caroline Astor Villa (three bedrooms), and Presidential Dune Villa (four bedrooms). Each villa comes with its private sundeck and pool. \n",
      "\n",
      "The Ummahat Islands can be reached by a 30-minute seaplane flight from RSI or a 1-hour ride from Turtle Bay Jetty.\n",
      "\n",
      "Question: What activities are available for adventure seekers at the Red Sea resorts?\n",
      "Answer: Adventure seekers at the Red Sea resorts have a variety of activities to choose from. Below the water, provided by RSG’s subsidiary brand, Galaxea, activities include scuba diving, Padi dive courses, dive excursions, conservation dives, heritage diving, and snorkeling excursions. They can also explore an 18th-century merchantman shipwreck. On land, activities provided by RSG's subsidiary brand, Akun, include gravel biking, fat tire biking, electric biking, trail running, hiking, climbing, scrambling, skydiving, paragliding, paramotoring, and hot air ballooning. Above the water, RSG's subsidiary brand, WAMA, offers kayaking, canoeing, stand-up paddle boarding, foiling, kite surfing, and sailing.\n",
      "\n",
      "\n",
      "Question: How does the Red Sea project contribute to regenerative tourism?\n",
      "Answer: The Red Sea project contributes to regenerative tourism in several ways. It restricts the number of guests to one million per year to preserve the ecosystem and ensure environmental enhancement targets are met. The project has set a target of achieving a 30% net conservation benefit by 2040 by enhancing biologically diverse habitats, including mangroves, seagrasses, corals, and land vegetation. On completion, it will be the largest tourism destination powered 100% by renewable energy, sourced from solar and wind, effectively reducing carbon emissions. The project uses only electric and hydrogen-powered vehicles, and is aiming to be net zero in carbon emissions by 2030. They have also established the largest landscape nursery in the region, with a goal to grow 30 million plants by 2030 and 50 million mangroves. Moreover, only less than 1% of the entire area will be developed while 75% of the islands will remain untouched. An expansive digital destination management system will be used to further support environmental enhancement.\n",
      "\n"
     ]
    }
   ],
   "source": [
    "# List of questions to build a travel guide\n",
    "questions = [\n",
    "    # Jeddah Guidebook\n",
    "    \"What are the must-visit historical sites in Jeddah?\",\n",
    "    \"What are the best beaches in Jeddah for water sports and relaxation?\",\n",
    "    \"Can you recommend unique accommodations in Jeddah, including chalets and luxury hotels?\",\n",
    "    \"What are the top dining spots in Jeddah to try traditional Hijazi cuisine?\",\n",
    "    \"What are the best scuba diving and snorkeling spots near Jeddah?\",\n",
    "\n",
    "    # Red Sea Factsheet\n",
    "    \"What luxury resorts are currently open at the Red Sea destination?\",\n",
    "    \"What sustainable initiatives are implemented at the Red Sea International Airport?\",\n",
    "    \"What are the main features of the Ummahat Islands resorts?\",\n",
    "    \"What activities are available for adventure seekers at the Red Sea resorts?\",\n",
    "    \"How does the Red Sea project contribute to regenerative tourism?\"\n",
    "]\n",
    "\n",
    "# Function to query the RAG system\n",
    "def query_rag_system(questions):\n",
    "    for question in questions:\n",
    "        print(f\"Question: {question}\")\n",
    "        try:\n",
    "            # Assuming `simple_rag.query` is already defined\n",
    "            response = simple_rag.query(question)\n",
    "            print(f\"Answer: {response}\\n\")\n",
    "        except Exception as e:\n",
    "            print(f\"Error processing question '{question}': {e}\\n\")\n",
    "\n",
    "# Execute the query for all questions\n",
    "query_rag_system(questions)\n"
   ]
  },
  {
   "cell_type": "markdown",
   "metadata": {},
   "source": [
    "### 6. Querying with UI"
   ]
  },
  {
   "cell_type": "markdown",
   "metadata": {},
   "source": []
  },
  {
   "cell_type": "code",
   "execution_count": 9,
   "metadata": {},
   "outputs": [],
   "source": [
    "import ipywidgets as widgets\n",
    "from IPython.display import display, Markdown\n",
    "\n",
    "# Just a visualization function to make it easier to interact with the API\n",
    "def create_ui(process_function):\n",
    "    \"\"\"Create a simple UI that works with any processing function.\"\"\"\n",
    "    # Create widgets\n",
    "    input_box = widgets.Textarea(\n",
    "        description='Input:',\n",
    "        layout=widgets.Layout(width='600px', height='100px')\n",
    "    )\n",
    "    submit_button = widgets.Button(description='Submit')\n",
    "    output_area = widgets.Output()\n",
    "    response_area = widgets.HTML(value='<h3>Chat</h3>')\n",
    "\n",
    "    def on_submit(b):\n",
    "        with output_area:\n",
    "            output_area.clear_output()\n",
    "            response = process_function(input_box.value)\n",
    "            response = (\n",
    "                \"**Question:** \" + input_box.value + \"\\n\\n**Answer:**\\n\" + response\n",
    "            )\n",
    "            input_box.value = \"\"  # Clear input box after submission\n",
    "            display(Markdown(response))  # Display formatted response\n",
    "\n",
    "    submit_button.on_click(on_submit)\n",
    "    \n",
    "    # Layout\n",
    "    ui = widgets.VBox([\n",
    "        input_box,\n",
    "        submit_button,\n",
    "        response_area,\n",
    "        output_area\n",
    "    ])\n",
    "    display(ui)"
   ]
  },
  {
   "cell_type": "code",
   "execution_count": 10,
   "metadata": {},
   "outputs": [
    {
     "data": {
      "application/vnd.jupyter.widget-view+json": {
       "model_id": "1e066a7f1efd435caebb5873643138d8",
       "version_major": 2,
       "version_minor": 0
      },
      "text/plain": [
       "VBox(children=(Textarea(value='', description='Input:', layout=Layout(height='100px', width='600px')), Button(…"
      ]
     },
     "metadata": {},
     "output_type": "display_data"
    }
   ],
   "source": [
    "create_ui(simple_rag.query)"
   ]
  },
  {
   "cell_type": "markdown",
   "metadata": {},
   "source": [
    "### 6. Evalution \n",
    "Evaluate how well the retrieved documents match the query using cosine similarity."
   ]
  },
  {
   "cell_type": "code",
   "execution_count": 13,
   "metadata": {},
   "outputs": [],
   "source": [
    "import numpy as np\n",
    "import pandas as pd\n",
    "def get_top_similar_documents(vectors, query_vector, top_k=4):\n",
    "    def get_cosine_similarity(a, b):\n",
    "        return np.dot(a, b) / (np.linalg.norm(a) * np.linalg.norm(b))\n",
    "    # Compute similarities\n",
    "    similarities = [get_cosine_similarity(doc, query_vector) for doc in vectors]\n",
    "    similarities_series = pd.Series(similarities, name=\"sims\")\n",
    "    # Get indices of the top-k documents\n",
    "    top_indices = similarities_series.sort_values(ascending=False).iloc[:top_k].index.tolist()\n",
    "    return top_indices"
   ]
  }
 ],
 "metadata": {
  "kernelspec": {
   "display_name": "base",
   "language": "python",
   "name": "python3"
  },
  "language_info": {
   "codemirror_mode": {
    "name": "ipython",
    "version": 3
   },
   "file_extension": ".py",
   "mimetype": "text/x-python",
   "name": "python",
   "nbconvert_exporter": "python",
   "pygments_lexer": "ipython3",
   "version": "3.12.0"
  }
 },
 "nbformat": 4,
 "nbformat_minor": 2
}
